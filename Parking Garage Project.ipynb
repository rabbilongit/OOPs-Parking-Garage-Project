{
 "cells": [
  {
   "cell_type": "markdown",
   "metadata": {},
   "source": [
    "# Parking Garage Project\n",
    "\n",
    "Your assignment for today is to create a parking garage class to get more familiar with Object Oriented Programming(OOP). \n",
    "\n",
    "Your parking gargage class should have the following methods:\n",
    "- takeTicket\n",
    "   - This should decrease the amount of tickets available by 1\n",
    "   - This should decrease the amount of parkingSpaces available by 1\n",
    "- payForParking\n",
    "   - Display an input that waits for an amount from the user and store it in a variable\n",
    "   - If the payment variable is not empty then ->  display a message to the user that their ticket has been paid and they have 15mins to leave\n",
    "   - This should update the \"currentTicket\" dictionary key \"paid\" to True\n",
    "-leaveGarage\n",
    "   - If the ticket has been paid, display a message of \"Thank You, have a nice day\"\n",
    "   - If the ticket has not been paid, display an input prompt for payment\n",
    "      - Once paid, display message \"Thank you, have a nice day!\"\n",
    "   - Update parkingSpaces list to increase by 1\n",
    "   - Update tickets list to increase by 1\n",
    "\n",
    "You will need a few attributes as well:\n",
    "- tickets -> list\n",
    "- parkingSpaces -> list\n",
    "- currentTicket -> dictionary"
   ]
  },
  {
   "cell_type": "code",
   "execution_count": 23,
   "metadata": {},
   "outputs": [
    {
     "name": "stdout",
     "output_type": "stream",
     "text": [
      "{'paid': True}\n",
      "Avilabel Tickets :['T1', 'T2', 'T3', 'T4', 'T5', 'T6', 'T7'], Availabel Parking Spaces :['PS1', 'PS2', 'PS3', 'PS4', 'PS5', 'PS6', 'PS7']\n",
      "Thank You, have a nice day\n",
      "Avilabel Tickets :['T1', 'T2', 'T3', 'T4', 'T5', 'T6', 'T7', 'T8'], Availabel Parking Spaces :['PS1', 'PS2', 'PS3', 'PS4', 'PS5', 'PS6', 'PS7', 'PS8']\n"
     ]
    }
   ],
   "source": [
    "# Your Code will go here\n",
    "\n",
    "class parking():\n",
    "    def __init__(self, tickets=['T1', 'T2', 'T3', 'T4', 'T5', 'T6', 'T7', 'T8'], parkingSpaces=['PS1', 'PS2', 'PS3', 'PS4', 'PS5', 'PS6', 'PS7', 'PS8'], CurrentTicket={\"paid\":False}):\n",
    "        self.tickets = tickets\n",
    "        self.parkingSpaces= parkingSpaces\n",
    "        self.CurrentTicket = CurrentTicket\n",
    "    \n",
    "    def buy_ticket(self):\n",
    "        cash = input('Ticket is 10$')\n",
    "\n",
    "        if cash =='10':\n",
    "            self.CurrentTicket[\"paid\"] = True\n",
    "            \n",
    "            self.tickets.remove(f'T{len(self.tickets)}')\n",
    "            self.parkingSpaces.remove(f'PS{len(self.parkingSpaces)}')\n",
    "            print(self.CurrentTicket)\n",
    "            print(f'Avilabel Tickets :{self.tickets}, Availabel Parking Spaces :{self.parkingSpaces}')\n",
    "        else:\n",
    "            print('We only accet 10$ bill')\n",
    "            self.buy_ticket()\n",
    "       \n",
    "    def leave(self):\n",
    "        if self.CurrentTicket[\"paid\"]== True:\n",
    "            print(f'Thank You, have a nice day')\n",
    "            self.tickets.append(f'T{len(self.tickets)+1}')\n",
    "            self.parkingSpaces.append(f'PS{len(self.parkingSpaces)+1}')\n",
    "            print(f'Avilabel Tickets :{self.tickets}, Availabel Parking Spaces :{self.parkingSpaces}')\n",
    "            \n",
    "        else:\n",
    "            print('Please pay 10$')\n",
    "            self.buy_ticket()\n",
    "\n",
    "    \n",
    "        \n",
    "\n",
    "customer = parking()\n",
    "\n",
    "\n",
    "def run():\n",
    "    while True:\n",
    "        text = input(\"Hey type \\n buy : To buy a ticket\\n leave: and Quit\")\n",
    "        if text.lower()== 'buy':\n",
    "            customer.buy_ticket()\n",
    "        elif text.lower() == 'leave':\n",
    "            customer.leave()\n",
    "        elif text.lower() == 'quit':\n",
    "            break\n",
    "run()"
   ]
  }
 ],
 "metadata": {
  "kernelspec": {
   "display_name": "Python 3",
   "language": "python",
   "name": "python3"
  },
  "language_info": {
   "codemirror_mode": {
    "name": "ipython",
    "version": 3
   },
   "file_extension": ".py",
   "mimetype": "text/x-python",
   "name": "python",
   "nbconvert_exporter": "python",
   "pygments_lexer": "ipython3",
   "version": "3.12.2"
  }
 },
 "nbformat": 4,
 "nbformat_minor": 2
}
